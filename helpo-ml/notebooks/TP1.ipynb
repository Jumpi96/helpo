{
 "cells": [
  {
   "cell_type": "code",
   "execution_count": 1,
   "metadata": {},
   "outputs": [],
   "source": [
    "import pandas as pd\n",
    "import numpy as np\n",
    "from sklearn.model_selection import GridSearchCV\n",
    "from sklearn import preprocessing\n",
    "from sklearn.svm import SVR\n",
    "from sklearn.model_selection import train_test_split\n",
    "import matplotlib.pyplot as plt\n",
    "import matplotlib.patches as mpatches\n",
    "from sklearn.metrics import mean_squared_error, make_scorer\n",
    "from sklearn.ensemble import RandomForestRegressor"
   ]
  },
  {
   "cell_type": "code",
   "execution_count": 2,
   "metadata": {},
   "outputs": [],
   "source": [
    "import warnings\n",
    "warnings.filterwarnings('ignore')"
   ]
  },
  {
   "cell_type": "code",
   "execution_count": 3,
   "metadata": {
    "scrolled": true
   },
   "outputs": [
    {
     "data": {
      "text/html": [
       "<div>\n",
       "<style scoped>\n",
       "    .dataframe tbody tr th:only-of-type {\n",
       "        vertical-align: middle;\n",
       "    }\n",
       "\n",
       "    .dataframe tbody tr th {\n",
       "        vertical-align: top;\n",
       "    }\n",
       "\n",
       "    .dataframe thead th {\n",
       "        text-align: right;\n",
       "    }\n",
       "</style>\n",
       "<table border=\"1\" class=\"dataframe\">\n",
       "  <thead>\n",
       "    <tr style=\"text-align: right;\">\n",
       "      <th></th>\n",
       "      <th>M</th>\n",
       "      <th>%NecONG</th>\n",
       "      <th>%NecRO</th>\n",
       "      <th>%NecRA</th>\n",
       "      <th>%VolONG</th>\n",
       "      <th>%VolRO</th>\n",
       "      <th>%VolRA</th>\n",
       "      <th>SuONG</th>\n",
       "      <th>SuRO</th>\n",
       "      <th>VisONG</th>\n",
       "      <th>...</th>\n",
       "      <th>F23</th>\n",
       "      <th>F24</th>\n",
       "      <th>F25</th>\n",
       "      <th>F26</th>\n",
       "      <th>F27</th>\n",
       "      <th>F28</th>\n",
       "      <th>F29</th>\n",
       "      <th>F30</th>\n",
       "      <th>F31</th>\n",
       "      <th>%Comp</th>\n",
       "    </tr>\n",
       "  </thead>\n",
       "  <tbody>\n",
       "    <tr>\n",
       "      <th>0</th>\n",
       "      <td>2</td>\n",
       "      <td>0.690000</td>\n",
       "      <td>0.689268</td>\n",
       "      <td>0.595041</td>\n",
       "      <td>0.545455</td>\n",
       "      <td>0.615385</td>\n",
       "      <td>0.541667</td>\n",
       "      <td>0</td>\n",
       "      <td>1</td>\n",
       "      <td>0.0</td>\n",
       "      <td>...</td>\n",
       "      <td>0</td>\n",
       "      <td>0</td>\n",
       "      <td>0</td>\n",
       "      <td>0</td>\n",
       "      <td>0</td>\n",
       "      <td>0</td>\n",
       "      <td>0</td>\n",
       "      <td>0</td>\n",
       "      <td>0</td>\n",
       "      <td>0.726027</td>\n",
       "    </tr>\n",
       "    <tr>\n",
       "      <th>1</th>\n",
       "      <td>2</td>\n",
       "      <td>0.570000</td>\n",
       "      <td>0.570000</td>\n",
       "      <td>0.652632</td>\n",
       "      <td>0.500000</td>\n",
       "      <td>0.500000</td>\n",
       "      <td>0.642857</td>\n",
       "      <td>0</td>\n",
       "      <td>0</td>\n",
       "      <td>0.0</td>\n",
       "      <td>...</td>\n",
       "      <td>0</td>\n",
       "      <td>0</td>\n",
       "      <td>0</td>\n",
       "      <td>0</td>\n",
       "      <td>0</td>\n",
       "      <td>0</td>\n",
       "      <td>0</td>\n",
       "      <td>0</td>\n",
       "      <td>0</td>\n",
       "      <td>0.595745</td>\n",
       "    </tr>\n",
       "    <tr>\n",
       "      <th>2</th>\n",
       "      <td>2</td>\n",
       "      <td>0.634483</td>\n",
       "      <td>0.634483</td>\n",
       "      <td>0.792144</td>\n",
       "      <td>0.730769</td>\n",
       "      <td>0.730769</td>\n",
       "      <td>0.722222</td>\n",
       "      <td>0</td>\n",
       "      <td>0</td>\n",
       "      <td>0.2</td>\n",
       "      <td>...</td>\n",
       "      <td>0</td>\n",
       "      <td>0</td>\n",
       "      <td>0</td>\n",
       "      <td>0</td>\n",
       "      <td>0</td>\n",
       "      <td>0</td>\n",
       "      <td>0</td>\n",
       "      <td>0</td>\n",
       "      <td>0</td>\n",
       "      <td>0.815789</td>\n",
       "    </tr>\n",
       "    <tr>\n",
       "      <th>3</th>\n",
       "      <td>2</td>\n",
       "      <td>0.650000</td>\n",
       "      <td>0.650000</td>\n",
       "      <td>0.652632</td>\n",
       "      <td>0.750000</td>\n",
       "      <td>0.750000</td>\n",
       "      <td>0.642857</td>\n",
       "      <td>0</td>\n",
       "      <td>0</td>\n",
       "      <td>0.0</td>\n",
       "      <td>...</td>\n",
       "      <td>1</td>\n",
       "      <td>0</td>\n",
       "      <td>0</td>\n",
       "      <td>0</td>\n",
       "      <td>0</td>\n",
       "      <td>0</td>\n",
       "      <td>0</td>\n",
       "      <td>0</td>\n",
       "      <td>0</td>\n",
       "      <td>0.590909</td>\n",
       "    </tr>\n",
       "    <tr>\n",
       "      <th>4</th>\n",
       "      <td>3</td>\n",
       "      <td>0.683333</td>\n",
       "      <td>0.630573</td>\n",
       "      <td>0.652632</td>\n",
       "      <td>0.833333</td>\n",
       "      <td>0.666667</td>\n",
       "      <td>0.642857</td>\n",
       "      <td>0</td>\n",
       "      <td>3</td>\n",
       "      <td>0.0</td>\n",
       "      <td>...</td>\n",
       "      <td>0</td>\n",
       "      <td>0</td>\n",
       "      <td>0</td>\n",
       "      <td>0</td>\n",
       "      <td>0</td>\n",
       "      <td>0</td>\n",
       "      <td>0</td>\n",
       "      <td>1</td>\n",
       "      <td>0</td>\n",
       "      <td>0.656250</td>\n",
       "    </tr>\n",
       "  </tbody>\n",
       "</table>\n",
       "<p>5 rows × 60 columns</p>\n",
       "</div>"
      ],
      "text/plain": [
       "   M   %NecONG    %NecRO    %NecRA   %VolONG    %VolRO    %VolRA  SuONG  SuRO  \\\n",
       "0  2  0.690000  0.689268  0.595041  0.545455  0.615385  0.541667      0     1   \n",
       "1  2  0.570000  0.570000  0.652632  0.500000  0.500000  0.642857      0     0   \n",
       "2  2  0.634483  0.634483  0.792144  0.730769  0.730769  0.722222      0     0   \n",
       "3  2  0.650000  0.650000  0.652632  0.750000  0.750000  0.642857      0     0   \n",
       "4  3  0.683333  0.630573  0.652632  0.833333  0.666667  0.642857      0     3   \n",
       "\n",
       "   VisONG    ...     F23  F24  F25  F26  F27  F28  F29  F30  F31     %Comp  \n",
       "0     0.0    ...       0    0    0    0    0    0    0    0    0  0.726027  \n",
       "1     0.0    ...       0    0    0    0    0    0    0    0    0  0.595745  \n",
       "2     0.2    ...       0    0    0    0    0    0    0    0    0  0.815789  \n",
       "3     0.0    ...       1    0    0    0    0    0    0    0    0  0.590909  \n",
       "4     0.0    ...       0    0    0    0    0    0    0    1    0  0.656250  \n",
       "\n",
       "[5 rows x 60 columns]"
      ]
     },
     "execution_count": 3,
     "metadata": {},
     "output_type": "execute_result"
    }
   ],
   "source": [
    "training_data = pd.read_csv('data2.csv')\n",
    "training_data = training_data.loc[:, training_data.columns != 'Unnamed: 0']\n",
    "training_data.head()"
   ]
  },
  {
   "cell_type": "code",
   "execution_count": 4,
   "metadata": {},
   "outputs": [
    {
     "name": "stdout",
     "output_type": "stream",
     "text": [
      "Training shape: (32, 60). Test shape: (11, 60)\n"
     ]
    }
   ],
   "source": [
    "M = training_data.sample(frac=1) # Random\n",
    "Mtrain, Mtest = train_test_split(M, test_size=0.25)\n",
    "print(\"Training shape: \" + str(Mtrain.shape) + \". Test shape: \" + str(Mtest.shape))"
   ]
  },
  {
   "cell_type": "code",
   "execution_count": 5,
   "metadata": {},
   "outputs": [
    {
     "name": "stdout",
     "output_type": "stream",
     "text": [
      "SVR(C=0.8, cache_size=200, coef0=0.0, degree=3, epsilon=0.06, gamma=0.008,\n",
      "  kernel='rbf', max_iter=-1, shrinking=True, tol=0.001, verbose=False)\n"
     ]
    }
   ],
   "source": [
    "y = pd.DataFrame()\n",
    "y[\"pred\"] = Mtrain[\"%Comp\"]\n",
    "training_data = Mtrain.drop([\"%Comp\"], axis=1)\n",
    "\n",
    "rmse_error = make_scorer(mean_squared_error, greater_is_better=False)\n",
    "\n",
    "parameters = { \n",
    "    'C': [0.8, 0.9, 1],\n",
    "    'epsilon': [0.04, 0.05, 0.06],\n",
    "    'gamma': [0.001, 0.003, 0.005, 0.008]\n",
    "}\n",
    "\n",
    "svr = GridSearchCV(SVR(), cv=3, param_grid=parameters, scoring=rmse_error)\n",
    "\n",
    "svr.fit(training_data, y)\n",
    "print(svr.best_estimator_)"
   ]
  },
  {
   "cell_type": "code",
   "execution_count": 6,
   "metadata": {},
   "outputs": [
    {
     "name": "stdout",
     "output_type": "stream",
     "text": [
      "RSME en datos de entrenamiento: 0.006286952394657705\n",
      "RSME en datos de prueba: 0.01182923886669542\n"
     ]
    }
   ],
   "source": [
    "training_error = mean_squared_error(Mtrain['%Comp'], \n",
    "                                    svr.predict(Mtrain.loc[:, M.columns != '%Comp']))\n",
    "test_error = mean_squared_error(Mtest['%Comp'], \n",
    "                                    svr.predict(Mtest.loc[:, Mtest.columns != '%Comp']))\n",
    "print('RSME en datos de entrenamiento: ' + str(training_error))\n",
    "print('RSME en datos de prueba: ' + str(test_error))"
   ]
  },
  {
   "cell_type": "code",
   "execution_count": 7,
   "metadata": {},
   "outputs": [
    {
     "data": {
      "image/png": "[encoded data removed]",
      "text/plain": [
       "<Figure size 432x288 with 1 Axes>"
      ]
     },
     "metadata": {
      "needs_background": "light"
     },
     "output_type": "display_data"
    }
   ],
   "source": [
    "%matplotlib inline\n",
    "f, ax = plt.subplots(1)\n",
    "plt.plot(M.index.values, M['%Comp'], 'bo', \n",
    "         M.index.values, svr.predict(M.loc[:, M.columns != '%Comp']), 'ro')\n",
    "ax.set_ylim(ymin=0, ymax=1)\n",
    "ax.set_title('Predicciones sobre datos de entrenamiento')\n",
    "ax.set_xlabel('Actividades sociales')\n",
    "ax.set_ylabel('Èxito de actividad')\n",
    "red_patch = mpatches.Patch(color='red', label='Predicción')\n",
    "blue_patch = mpatches.Patch(color='blue', label='Dato histórico')\n",
    "plt.legend(handles=[red_patch, blue_patch])\n",
    "plt.show(f)"
   ]
  },
  {
   "cell_type": "code",
   "execution_count": 8,
   "metadata": {},
   "outputs": [
    {
     "data": {
      "image/png": "[encoded data removed]",
      "text/plain": [
       "<Figure size 432x288 with 1 Axes>"
      ]
     },
     "metadata": {
      "needs_background": "light"
     },
     "output_type": "display_data"
    }
   ],
   "source": [
    "f, ax = plt.subplots(1)\n",
    "ax.plot(Mtest.index.values, Mtest['%Comp'], 'bo', \n",
    "         Mtest.index.values, svr.predict(Mtest.loc[:, Mtest.columns != '%Comp']), 'ro')\n",
    "ax.set_ylim(ymin=0, ymax=1)\n",
    "ax.set_title('Predicciones sobre datos de prueba')\n",
    "ax.set_xlabel('Actividades sociales')\n",
    "ax.set_ylabel('Èxito de actividad')\n",
    "red_patch = mpatches.Patch(color='red', label='Predicción')\n",
    "blue_patch = mpatches.Patch(color='blue', label='Dato histórico')\n",
    "plt.legend(handles=[red_patch, blue_patch])\n",
    "plt.show(f)"
   ]
  },
  {
   "cell_type": "code",
   "execution_count": 9,
   "metadata": {},
   "outputs": [
    {
     "data": {
      "text/html": [
       "<div>\n",
       "<style scoped>\n",
       "    .dataframe tbody tr th:only-of-type {\n",
       "        vertical-align: middle;\n",
       "    }\n",
       "\n",
       "    .dataframe tbody tr th {\n",
       "        vertical-align: top;\n",
       "    }\n",
       "\n",
       "    .dataframe thead th {\n",
       "        text-align: right;\n",
       "    }\n",
       "</style>\n",
       "<table border=\"1\" class=\"dataframe\">\n",
       "  <thead>\n",
       "    <tr style=\"text-align: right;\">\n",
       "      <th></th>\n",
       "      <th>variable</th>\n",
       "      <th>importance</th>\n",
       "    </tr>\n",
       "  </thead>\n",
       "  <tbody>\n",
       "    <tr>\n",
       "      <th>0</th>\n",
       "      <td>Dias</td>\n",
       "      <td>0.177068</td>\n",
       "    </tr>\n",
       "    <tr>\n",
       "      <th>1</th>\n",
       "      <td>M</td>\n",
       "      <td>0.117667</td>\n",
       "    </tr>\n",
       "    <tr>\n",
       "      <th>2</th>\n",
       "      <td>%NecONG</td>\n",
       "      <td>0.110623</td>\n",
       "    </tr>\n",
       "    <tr>\n",
       "      <th>3</th>\n",
       "      <td>%NecRA</td>\n",
       "      <td>0.087538</td>\n",
       "    </tr>\n",
       "    <tr>\n",
       "      <th>4</th>\n",
       "      <td>%NecRO</td>\n",
       "      <td>0.079762</td>\n",
       "    </tr>\n",
       "  </tbody>\n",
       "</table>\n",
       "</div>"
      ],
      "text/plain": [
       "  variable  importance\n",
       "0     Dias    0.177068\n",
       "1        M    0.117667\n",
       "2  %NecONG    0.110623\n",
       "3   %NecRA    0.087538\n",
       "4   %NecRO    0.079762"
      ]
     },
     "execution_count": 9,
     "metadata": {},
     "output_type": "execute_result"
    }
   ],
   "source": [
    "forest=RandomForestRegressor()\n",
    "forest.fit(Mtrain.loc[:, Mtest.columns != '%Comp'], Mtrain['%Comp'])\n",
    "table=pd.concat((pd.DataFrame(Mtrain.iloc[:, 0:].columns, columns = ['variable']), \n",
    "           pd.DataFrame(forest.feature_importances_, columns = ['importance'])), \n",
    "          axis = 1).sort_values(by='importance', ascending = False)[:20].reset_index()\n",
    "table=table.drop(\"index\",axis=1)\n",
    "table=table.groupby([table.variable.str[:]]).sum().reset_index().sort_values(by='importance',ascending=False).reset_index()\n",
    "table=table.drop(\"index\",axis=1)\n",
    "table.head()"
   ]
  },
  {
   "cell_type": "code",
   "execution_count": 10,
   "metadata": {},
   "outputs": [
    {
     "data": {
      "text/plain": [
       "<matplotlib.axes._subplots.AxesSubplot at 0x7f69cfc9b8d0>"
      ]
     },
     "execution_count": 10,
     "metadata": {},
     "output_type": "execute_result"
    },
    {
     "data": {
      "image/png": "[encoded data removed]",
      "text/plain": [
       "<Figure size 432x288 with 1 Axes>"
      ]
     },
     "metadata": {
      "needs_background": "light"
     },
     "output_type": "display_data"
    }
   ],
   "source": [
    "table.head().plot.bar(\n",
    "    x='variable', \n",
    "    color='orange',\n",
    "    title=\"Importancia de variables en un RandomForest\",\n",
    ")"
   ]
  }
 ],
 "metadata": {
  "kernelspec": {
   "display_name": "Python 3",
   "language": "python",
   "name": "python3"
  },
  "language_info": {
   "codemirror_mode": {
    "name": "ipython",
    "version": 3
   },
   "file_extension": ".py",
   "mimetype": "text/x-python",
   "name": "python",
   "nbconvert_exporter": "python",
   "pygments_lexer": "ipython3",
   "version": "3.7.0"
  }
 },
 "nbformat": 4,
 "nbformat_minor": 2
}
