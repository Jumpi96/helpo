{
 "cells": [
  {
   "cell_type": "code",
   "execution_count": 3,
   "metadata": {},
   "outputs": [],
   "source": [
    "import pandas as pd\n",
    "import numpy as np\n",
    "from sklearn.model_selection import GridSearchCV\n",
    "from sklearn import preprocessing\n",
    "from sklearn.svm import SVR\n",
    "from sklearn.model_selection import train_test_split\n",
    "import matplotlib.pyplot as plt"
   ]
  },
  {
   "cell_type": "code",
   "execution_count": 4,
   "metadata": {},
   "outputs": [],
   "source": [
    "import warnings\n",
    "warnings.filterwarnings('ignore')"
   ]
  },
  {
   "cell_type": "code",
   "execution_count": 5,
   "metadata": {},
   "outputs": [
    {
     "data": {
      "text/html": [
       "<div>\n",
       "<style scoped>\n",
       "    .dataframe tbody tr th:only-of-type {\n",
       "        vertical-align: middle;\n",
       "    }\n",
       "\n",
       "    .dataframe tbody tr th {\n",
       "        vertical-align: top;\n",
       "    }\n",
       "\n",
       "    .dataframe thead th {\n",
       "        text-align: right;\n",
       "    }\n",
       "</style>\n",
       "<table border=\"1\" class=\"dataframe\">\n",
       "  <thead>\n",
       "    <tr style=\"text-align: right;\">\n",
       "      <th></th>\n",
       "      <th>M</th>\n",
       "      <th>%NecONG</th>\n",
       "      <th>%NecRO</th>\n",
       "      <th>%NecRA</th>\n",
       "      <th>%VolONG</th>\n",
       "      <th>%VolRO</th>\n",
       "      <th>%VolRA</th>\n",
       "      <th>SuONG</th>\n",
       "      <th>SuRO</th>\n",
       "      <th>VisONG</th>\n",
       "      <th>VisRO</th>\n",
       "      <th>VisRA</th>\n",
       "      <th>Dis</th>\n",
       "      <th>Dias</th>\n",
       "      <th>Camp</th>\n",
       "      <th>C1</th>\n",
       "      <th>C2</th>\n",
       "      <th>F1</th>\n",
       "      <th>F2</th>\n",
       "      <th>%Comp</th>\n",
       "    </tr>\n",
       "  </thead>\n",
       "  <tbody>\n",
       "    <tr>\n",
       "      <th>1</th>\n",
       "      <td>10</td>\n",
       "      <td>0.201613</td>\n",
       "      <td>0.201613</td>\n",
       "      <td>0.625</td>\n",
       "      <td>0.11</td>\n",
       "      <td>0.11</td>\n",
       "      <td>0.11</td>\n",
       "      <td>0</td>\n",
       "      <td>0</td>\n",
       "      <td>0</td>\n",
       "      <td>0</td>\n",
       "      <td>0</td>\n",
       "      <td>0</td>\n",
       "      <td>6</td>\n",
       "      <td>0</td>\n",
       "      <td>0</td>\n",
       "      <td>1</td>\n",
       "      <td>1</td>\n",
       "      <td>0</td>\n",
       "      <td>0.209677</td>\n",
       "    </tr>\n",
       "    <tr>\n",
       "      <th>2</th>\n",
       "      <td>9</td>\n",
       "      <td>0.201613</td>\n",
       "      <td>0.201613</td>\n",
       "      <td>0.100</td>\n",
       "      <td>0.11</td>\n",
       "      <td>0.11</td>\n",
       "      <td>0.00</td>\n",
       "      <td>0</td>\n",
       "      <td>0</td>\n",
       "      <td>0</td>\n",
       "      <td>0</td>\n",
       "      <td>0</td>\n",
       "      <td>0</td>\n",
       "      <td>0</td>\n",
       "      <td>0</td>\n",
       "      <td>1</td>\n",
       "      <td>0</td>\n",
       "      <td>0</td>\n",
       "      <td>0</td>\n",
       "      <td>0.100000</td>\n",
       "    </tr>\n",
       "    <tr>\n",
       "      <th>3</th>\n",
       "      <td>9</td>\n",
       "      <td>0.201613</td>\n",
       "      <td>0.201613</td>\n",
       "      <td>0.100</td>\n",
       "      <td>0.11</td>\n",
       "      <td>0.11</td>\n",
       "      <td>0.00</td>\n",
       "      <td>0</td>\n",
       "      <td>0</td>\n",
       "      <td>0</td>\n",
       "      <td>0</td>\n",
       "      <td>0</td>\n",
       "      <td>0</td>\n",
       "      <td>-1</td>\n",
       "      <td>0</td>\n",
       "      <td>0</td>\n",
       "      <td>0</td>\n",
       "      <td>0</td>\n",
       "      <td>0</td>\n",
       "      <td>0.000000</td>\n",
       "    </tr>\n",
       "    <tr>\n",
       "      <th>4</th>\n",
       "      <td>9</td>\n",
       "      <td>0.201613</td>\n",
       "      <td>0.201613</td>\n",
       "      <td>0.100</td>\n",
       "      <td>0.11</td>\n",
       "      <td>0.11</td>\n",
       "      <td>0.00</td>\n",
       "      <td>0</td>\n",
       "      <td>0</td>\n",
       "      <td>0</td>\n",
       "      <td>0</td>\n",
       "      <td>0</td>\n",
       "      <td>0</td>\n",
       "      <td>0</td>\n",
       "      <td>0</td>\n",
       "      <td>0</td>\n",
       "      <td>0</td>\n",
       "      <td>0</td>\n",
       "      <td>0</td>\n",
       "      <td>0.000000</td>\n",
       "    </tr>\n",
       "  </tbody>\n",
       "</table>\n",
       "</div>"
      ],
      "text/plain": [
       "    M   %NecONG    %NecRO  %NecRA  %VolONG  %VolRO  %VolRA  SuONG  SuRO  \\\n",
       "1  10  0.201613  0.201613   0.625     0.11    0.11    0.11      0     0   \n",
       "2   9  0.201613  0.201613   0.100     0.11    0.11    0.00      0     0   \n",
       "3   9  0.201613  0.201613   0.100     0.11    0.11    0.00      0     0   \n",
       "4   9  0.201613  0.201613   0.100     0.11    0.11    0.00      0     0   \n",
       "\n",
       "   VisONG  VisRO  VisRA  Dis  Dias  Camp  C1  C2  F1  F2     %Comp  \n",
       "1       0      0      0    0     6     0   0   1   1   0  0.209677  \n",
       "2       0      0      0    0     0     0   1   0   0   0  0.100000  \n",
       "3       0      0      0    0    -1     0   0   0   0   0  0.000000  \n",
       "4       0      0      0    0     0     0   0   0   0   0  0.000000  "
      ]
     },
     "execution_count": 5,
     "metadata": {},
     "output_type": "execute_result"
    }
   ],
   "source": [
    "training_data = pd.read_json(\"{\\\"M\\\":{\\\"2\\\":9.0,\\\"3\\\":9.0,\\\"4\\\":9.0,\\\"1\\\":10.0},\\\"%NecONG\\\":{\\\"2\\\":0.2016129032,\\\"3\\\":0.2016129032,\\\"4\\\":0.2016129032,\\\"1\\\":0.2016129032},\\\"%NecRO\\\":{\\\"2\\\":0.2016129032,\\\"3\\\":0.2016129032,\\\"4\\\":0.2016129032,\\\"1\\\":0.2016129032},\\\"%NecRA\\\":{\\\"2\\\":0.1,\\\"3\\\":0.1,\\\"4\\\":0.1,\\\"1\\\":0.625},\\\"%VolONG\\\":{\\\"2\\\":0.11,\\\"3\\\":0.11,\\\"4\\\":0.11,\\\"1\\\":0.11},\\\"%VolRO\\\":{\\\"2\\\":0.11,\\\"3\\\":0.11,\\\"4\\\":0.11,\\\"1\\\":0.11},\\\"%VolRA\\\":{\\\"2\\\":0.0,\\\"3\\\":0.0,\\\"4\\\":0.0,\\\"1\\\":0.11},\\\"SuONG\\\":{\\\"2\\\":0.0,\\\"3\\\":0.0,\\\"4\\\":0.0,\\\"1\\\":0.0},\\\"SuRO\\\":{\\\"2\\\":0.0,\\\"3\\\":0.0,\\\"4\\\":0.0,\\\"1\\\":0.0},\\\"VisONG\\\":{\\\"2\\\":0.0,\\\"3\\\":0.0,\\\"4\\\":0.0,\\\"1\\\":0.0},\\\"VisRO\\\":{\\\"2\\\":0.0,\\\"3\\\":0.0,\\\"4\\\":0.0,\\\"1\\\":0.0},\\\"VisRA\\\":{\\\"2\\\":0.0,\\\"3\\\":0.0,\\\"4\\\":0.0,\\\"1\\\":0.0},\\\"Dis\\\":{\\\"2\\\":0.0,\\\"3\\\":0.0,\\\"4\\\":0.0,\\\"1\\\":0.0},\\\"Dias\\\":{\\\"2\\\":0.0,\\\"3\\\":-1.0,\\\"4\\\":0.0,\\\"1\\\":6.0},\\\"Camp\\\":{\\\"2\\\":0.0,\\\"3\\\":0.0,\\\"4\\\":0.0,\\\"1\\\":0.0},\\\"C1\\\":{\\\"2\\\":1.0,\\\"3\\\":0.0,\\\"4\\\":0.0,\\\"1\\\":0.0},\\\"C2\\\":{\\\"2\\\":0.0,\\\"3\\\":0.0,\\\"4\\\":0.0,\\\"1\\\":1.0},\\\"F1\\\":{\\\"2\\\":0.0,\\\"3\\\":0.0,\\\"4\\\":0.0,\\\"1\\\":1.0},\\\"F2\\\":{\\\"2\\\":0.0,\\\"3\\\":0.0,\\\"4\\\":0.0,\\\"1\\\":0.0},\\\"%Comp\\\":{\\\"2\\\":0.1,\\\"3\\\":0.0,\\\"4\\\":0.0,\\\"1\\\":0.2096774194}}\")\n",
    "features = ['M', '%NecONG', '%NecRO', '%NecRA', '%VolONG', '%VolRO', '%VolRA', \n",
    "        'SuONG', 'SuRO', 'VisONG', 'VisRO', 'VisRA', 'Dis', 'Dias', 'Camp']\n",
    "training_data\n"
   ]
  },
  {
   "cell_type": "code",
   "execution_count": 6,
   "metadata": {},
   "outputs": [
    {
     "name": "stdout",
     "output_type": "stream",
     "text": [
      "Training shape: (3, 20). Test shape: (1, 20)\n"
     ]
    }
   ],
   "source": [
    "M, features = training_data.sample(frac=1), features[:-1] # Random\n",
    "Mtrain, Mtest = train_test_split(M, test_size=0.2)\n",
    "print(\"Training shape: \" + str(Mtrain.shape) + \". Test shape: \" + str(Mtest.shape))"
   ]
  },
  {
   "cell_type": "code",
   "execution_count": 7,
   "metadata": {},
   "outputs": [
    {
     "name": "stdout",
     "output_type": "stream",
     "text": [
      "[-5.84840945e-04  1.94948326e-04  1.00194949e-01  2.09872353e-01]\n"
     ]
    }
   ],
   "source": [
    "y = pd.DataFrame()\n",
    "y[\"pred\"] = M[\"%Comp\"]\n",
    "training_data = M.drop([\"%Comp\"], axis=1)\n",
    "training_data = preprocessing.scale(training_data)\n",
    "\n",
    "parameters = {\n",
    "    'kernel': ('linear', 'rbf','poly'), \n",
    "    'C': np.linspace(0.1, 1, num=5),\n",
    "    'gamma': np.linspace(1e-11,1e-9, num=5),\n",
    "    'epsilon': np.linspace(1e-11, 1e-9, num=5)\n",
    "}\n",
    "svr = GridSearchCV(SVR(), cv=2, param_grid=parameters)\n",
    "svr.fit(training_data, y)\n",
    "\n",
    "#print(svr.best_estimator_)\n",
    "print(svr.predict(training_data))\n",
    "#save_model_fecha_regressor(svr, features)"
   ]
  },
  {
   "cell_type": "code",
   "execution_count": 13,
   "metadata": {},
   "outputs": [
    {
     "ename": "AttributeError",
     "evalue": "'GridSearchCV' object has no attribute 'model_'",
     "output_type": "error",
     "traceback": [
      "\u001b[0;31m---------------------------------------------------------------------------\u001b[0m",
      "\u001b[0;31mAttributeError\u001b[0m                            Traceback (most recent call last)",
      "\u001b[0;32m<ipython-input-13-2f76abae6104>\u001b[0m in \u001b[0;36m<module>\u001b[0;34m\u001b[0m\n\u001b[0;32m----> 1\u001b[0;31m \u001b[0msvr\u001b[0m\u001b[0;34m.\u001b[0m\u001b[0mmodel_\u001b[0m\u001b[0;34m\u001b[0m\u001b[0m\n\u001b[0m",
      "\u001b[0;31mAttributeError\u001b[0m: 'GridSearchCV' object has no attribute 'model_'"
     ]
    }
   ],
   "source": []
  },
  {
   "cell_type": "code",
   "execution_count": 8,
   "metadata": {},
   "outputs": [],
   "source": [
    "%matplotlib inline"
   ]
  },
  {
   "cell_type": "code",
   "execution_count": 9,
   "metadata": {},
   "outputs": [
    {
     "data": {
      "text/plain": [
       "[<matplotlib.lines.Line2D at 0x7f676e7c6dd8>,\n",
       " <matplotlib.lines.Line2D at 0x7f676e7c6ef0>]"
      ]
     },
     "execution_count": 9,
     "metadata": {},
     "output_type": "execute_result"
    },
    {
     "data": {
      "image/png": "[encoded data removed]",
      "text/plain": [
       "<Figure size 432x288 with 1 Axes>"
      ]
     },
     "metadata": {
      "needs_background": "light"
     },
     "output_type": "display_data"
    }
   ],
   "source": [
    "plt.plot(Mtest.index.values, Mtest['%Comp'], 'r', \n",
    "         Mtest.index.values, svr.predict(Mtest.loc[:, Mtest.columns != '%Comp']), 'b')"
   ]
  },
  {
   "cell_type": "code",
   "execution_count": null,
   "metadata": {},
   "outputs": [],
   "source": []
  },
  {
   "cell_type": "code",
   "execution_count": null,
   "metadata": {},
   "outputs": [],
   "source": []
  }
 ],
 "metadata": {
  "kernelspec": {
   "display_name": "Python 3",
   "language": "python",
   "name": "python3"
  },
  "language_info": {
   "codemirror_mode": {
    "name": "ipython",
    "version": 3
   },
   "file_extension": ".py",
   "mimetype": "text/x-python",
   "name": "python",
   "nbconvert_exporter": "python",
   "pygments_lexer": "ipython3",
   "version": "3.7.0"
  }
 },
 "nbformat": 4,
 "nbformat_minor": 2
}
